{
 "cells": [
  {
   "cell_type": "code",
   "execution_count": 1,
   "metadata": {},
   "outputs": [],
   "source": [
    "# this will check if it is the integer 2, or the str '2'\n",
    "def is_two(x):\n",
    "    return x == 2 or x == '2'\n",
    "\n",
    "# assertion tests...\n",
    "# assert actual vaue == expected value\n",
    "\n",
    "assert is_two(2) == True\n",
    "assert is_two(2.0) == True\n",
    "assert is_two('2') == True\n",
    "assert is_two(5) == False\n",
    "assert is_two('Lakers') == False"
   ]
  },
  {
   "cell_type": "code",
   "execution_count": 2,
   "metadata": {},
   "outputs": [],
   "source": [
    "def capitalize_starting_consonant(string):\n",
    "    if type(string) != str:\n",
    "        return False\n",
    "    \n",
    "    first_letter = string[0]\n",
    "    if is_consonant(first_letter):\n",
    "        string = string.capitalize()\n",
    "        \n",
    "    return string"
   ]
  },
  {
   "cell_type": "code",
   "execution_count": 3,
   "metadata": {},
   "outputs": [],
   "source": [
    "def handle_commas(string):\n",
    "    if type(string) != str:\n",
    "        return 'Input must be a string.'\n",
    "    \n",
    "    return float(string.replace(',' , ''))"
   ]
  },
  {
   "cell_type": "code",
   "execution_count": null,
   "metadata": {},
   "outputs": [],
   "source": []
  }
 ],
 "metadata": {
  "kernelspec": {
   "display_name": "Python 3",
   "language": "python",
   "name": "python3"
  },
  "language_info": {
   "codemirror_mode": {
    "name": "ipython",
    "version": 3
   },
   "file_extension": ".py",
   "mimetype": "text/x-python",
   "name": "python",
   "nbconvert_exporter": "python",
   "pygments_lexer": "ipython3",
   "version": "3.8.5"
  }
 },
 "nbformat": 4,
 "nbformat_minor": 4
}
