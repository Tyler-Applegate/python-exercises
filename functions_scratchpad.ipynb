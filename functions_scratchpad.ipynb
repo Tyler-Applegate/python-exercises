{
 "cells": [
  {
   "cell_type": "code",
   "execution_count": 2,
   "metadata": {},
   "outputs": [],
   "source": [
    "def normalize_name(word):\n",
    "    \n",
    "# creating an empty string\n",
    "    characters = ' '\n",
    "    \n",
    "# removing special symbols    \n",
    "    for letter in word:\n",
    "        if letter.isalnum() or letter == ' ' or letter == '_':\n",
    "            characters += letter\n",
    "            \n",
    "#checking first character for digits, and removing\n",
    "    while characters[0].isdigit():\n",
    "        characters = characters[1:]\n",
    "        \n",
    "#stripping whitespace, making lowercase, replacing empty space w/ underscore\n",
    "    characters = characters.strip().lower().replace(' ', '_')\n",
    "    return characters"
   ]
  },
  {
   "cell_type": "code",
   "execution_count": 3,
   "metadata": {},
   "outputs": [
    {
     "data": {
      "text/plain": [
       "'99sdasd__afd36'"
      ]
     },
     "execution_count": 3,
     "metadata": {},
     "output_type": "execute_result"
    }
   ],
   "source": [
    "normalize_name('99%%sdasd _afd36')"
   ]
  },
  {
   "cell_type": "code",
   "execution_count": 4,
   "metadata": {},
   "outputs": [],
   "source": [
    "def normalize_name(string):\n",
    "    output = \"\"\n",
    "    \n",
    "    # lowercase all the things\n",
    "    string = string.lower()\n",
    "\n",
    "    # Filter out any non-valid identifiers, keep spaces to turn into _\n",
    "    for character in string:\n",
    "        if character.isidentifier() or character == \" \":\n",
    "            output += character\n",
    "    \n",
    "    # remove any leading or trailing spaces\n",
    "    output = output.strip()\n",
    "    \n",
    "    # replace \" \" with \"_\"\n",
    "    output = output.replace(\" \", \"_\")\n",
    "    \n",
    "    return output"
   ]
  },
  {
   "cell_type": "code",
   "execution_count": 5,
   "metadata": {},
   "outputs": [
    {
     "data": {
      "text/plain": [
       "'asdfffe'"
      ]
     },
     "execution_count": 5,
     "metadata": {},
     "output_type": "execute_result"
    }
   ],
   "source": [
    "normalize_name('99asdf$%^$ffe')"
   ]
  },
  {
   "cell_type": "code",
   "execution_count": null,
   "metadata": {},
   "outputs": [],
   "source": []
  }
 ],
 "metadata": {
  "kernelspec": {
   "display_name": "Python 3",
   "language": "python",
   "name": "python3"
  },
  "language_info": {
   "codemirror_mode": {
    "name": "ipython",
    "version": 3
   },
   "file_extension": ".py",
   "mimetype": "text/x-python",
   "name": "python",
   "nbconvert_exporter": "python",
   "pygments_lexer": "ipython3",
   "version": "3.8.5"
  }
 },
 "nbformat": 4,
 "nbformat_minor": 4
}
